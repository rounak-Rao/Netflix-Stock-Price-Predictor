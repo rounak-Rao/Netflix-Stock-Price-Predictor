{
  "nbformat": 4,
  "nbformat_minor": 0,
  "metadata": {
    "colab": {
      "provenance": [],
      "gpuType": "T4"
    },
    "kernelspec": {
      "name": "python3",
      "display_name": "Python 3"
    },
    "language_info": {
      "name": "python"
    },
    "accelerator": "GPU"
  },
  "cells": [
    {
      "cell_type": "code",
      "execution_count": 1,
      "metadata": {
        "colab": {
          "base_uri": "https://localhost:8080/",
          "height": 74
        },
        "id": "WwHwgYSAVWQV",
        "outputId": "95e1de94-b093-4a44-bcc4-5ef10287c911"
      },
      "outputs": [
        {
          "output_type": "display_data",
          "data": {
            "text/plain": [
              "<IPython.core.display.HTML object>"
            ],
            "text/html": [
              "\n",
              "     <input type=\"file\" id=\"files-e5b32651-f6a5-468b-b617-a9800c07581c\" name=\"files[]\" multiple disabled\n",
              "        style=\"border:none\" />\n",
              "     <output id=\"result-e5b32651-f6a5-468b-b617-a9800c07581c\">\n",
              "      Upload widget is only available when the cell has been executed in the\n",
              "      current browser session. Please rerun this cell to enable.\n",
              "      </output>\n",
              "      <script>// Copyright 2017 Google LLC\n",
              "//\n",
              "// Licensed under the Apache License, Version 2.0 (the \"License\");\n",
              "// you may not use this file except in compliance with the License.\n",
              "// You may obtain a copy of the License at\n",
              "//\n",
              "//      http://www.apache.org/licenses/LICENSE-2.0\n",
              "//\n",
              "// Unless required by applicable law or agreed to in writing, software\n",
              "// distributed under the License is distributed on an \"AS IS\" BASIS,\n",
              "// WITHOUT WARRANTIES OR CONDITIONS OF ANY KIND, either express or implied.\n",
              "// See the License for the specific language governing permissions and\n",
              "// limitations under the License.\n",
              "\n",
              "/**\n",
              " * @fileoverview Helpers for google.colab Python module.\n",
              " */\n",
              "(function(scope) {\n",
              "function span(text, styleAttributes = {}) {\n",
              "  const element = document.createElement('span');\n",
              "  element.textContent = text;\n",
              "  for (const key of Object.keys(styleAttributes)) {\n",
              "    element.style[key] = styleAttributes[key];\n",
              "  }\n",
              "  return element;\n",
              "}\n",
              "\n",
              "// Max number of bytes which will be uploaded at a time.\n",
              "const MAX_PAYLOAD_SIZE = 100 * 1024;\n",
              "\n",
              "function _uploadFiles(inputId, outputId) {\n",
              "  const steps = uploadFilesStep(inputId, outputId);\n",
              "  const outputElement = document.getElementById(outputId);\n",
              "  // Cache steps on the outputElement to make it available for the next call\n",
              "  // to uploadFilesContinue from Python.\n",
              "  outputElement.steps = steps;\n",
              "\n",
              "  return _uploadFilesContinue(outputId);\n",
              "}\n",
              "\n",
              "// This is roughly an async generator (not supported in the browser yet),\n",
              "// where there are multiple asynchronous steps and the Python side is going\n",
              "// to poll for completion of each step.\n",
              "// This uses a Promise to block the python side on completion of each step,\n",
              "// then passes the result of the previous step as the input to the next step.\n",
              "function _uploadFilesContinue(outputId) {\n",
              "  const outputElement = document.getElementById(outputId);\n",
              "  const steps = outputElement.steps;\n",
              "\n",
              "  const next = steps.next(outputElement.lastPromiseValue);\n",
              "  return Promise.resolve(next.value.promise).then((value) => {\n",
              "    // Cache the last promise value to make it available to the next\n",
              "    // step of the generator.\n",
              "    outputElement.lastPromiseValue = value;\n",
              "    return next.value.response;\n",
              "  });\n",
              "}\n",
              "\n",
              "/**\n",
              " * Generator function which is called between each async step of the upload\n",
              " * process.\n",
              " * @param {string} inputId Element ID of the input file picker element.\n",
              " * @param {string} outputId Element ID of the output display.\n",
              " * @return {!Iterable<!Object>} Iterable of next steps.\n",
              " */\n",
              "function* uploadFilesStep(inputId, outputId) {\n",
              "  const inputElement = document.getElementById(inputId);\n",
              "  inputElement.disabled = false;\n",
              "\n",
              "  const outputElement = document.getElementById(outputId);\n",
              "  outputElement.innerHTML = '';\n",
              "\n",
              "  const pickedPromise = new Promise((resolve) => {\n",
              "    inputElement.addEventListener('change', (e) => {\n",
              "      resolve(e.target.files);\n",
              "    });\n",
              "  });\n",
              "\n",
              "  const cancel = document.createElement('button');\n",
              "  inputElement.parentElement.appendChild(cancel);\n",
              "  cancel.textContent = 'Cancel upload';\n",
              "  const cancelPromise = new Promise((resolve) => {\n",
              "    cancel.onclick = () => {\n",
              "      resolve(null);\n",
              "    };\n",
              "  });\n",
              "\n",
              "  // Wait for the user to pick the files.\n",
              "  const files = yield {\n",
              "    promise: Promise.race([pickedPromise, cancelPromise]),\n",
              "    response: {\n",
              "      action: 'starting',\n",
              "    }\n",
              "  };\n",
              "\n",
              "  cancel.remove();\n",
              "\n",
              "  // Disable the input element since further picks are not allowed.\n",
              "  inputElement.disabled = true;\n",
              "\n",
              "  if (!files) {\n",
              "    return {\n",
              "      response: {\n",
              "        action: 'complete',\n",
              "      }\n",
              "    };\n",
              "  }\n",
              "\n",
              "  for (const file of files) {\n",
              "    const li = document.createElement('li');\n",
              "    li.append(span(file.name, {fontWeight: 'bold'}));\n",
              "    li.append(span(\n",
              "        `(${file.type || 'n/a'}) - ${file.size} bytes, ` +\n",
              "        `last modified: ${\n",
              "            file.lastModifiedDate ? file.lastModifiedDate.toLocaleDateString() :\n",
              "                                    'n/a'} - `));\n",
              "    const percent = span('0% done');\n",
              "    li.appendChild(percent);\n",
              "\n",
              "    outputElement.appendChild(li);\n",
              "\n",
              "    const fileDataPromise = new Promise((resolve) => {\n",
              "      const reader = new FileReader();\n",
              "      reader.onload = (e) => {\n",
              "        resolve(e.target.result);\n",
              "      };\n",
              "      reader.readAsArrayBuffer(file);\n",
              "    });\n",
              "    // Wait for the data to be ready.\n",
              "    let fileData = yield {\n",
              "      promise: fileDataPromise,\n",
              "      response: {\n",
              "        action: 'continue',\n",
              "      }\n",
              "    };\n",
              "\n",
              "    // Use a chunked sending to avoid message size limits. See b/62115660.\n",
              "    let position = 0;\n",
              "    do {\n",
              "      const length = Math.min(fileData.byteLength - position, MAX_PAYLOAD_SIZE);\n",
              "      const chunk = new Uint8Array(fileData, position, length);\n",
              "      position += length;\n",
              "\n",
              "      const base64 = btoa(String.fromCharCode.apply(null, chunk));\n",
              "      yield {\n",
              "        response: {\n",
              "          action: 'append',\n",
              "          file: file.name,\n",
              "          data: base64,\n",
              "        },\n",
              "      };\n",
              "\n",
              "      let percentDone = fileData.byteLength === 0 ?\n",
              "          100 :\n",
              "          Math.round((position / fileData.byteLength) * 100);\n",
              "      percent.textContent = `${percentDone}% done`;\n",
              "\n",
              "    } while (position < fileData.byteLength);\n",
              "  }\n",
              "\n",
              "  // All done.\n",
              "  yield {\n",
              "    response: {\n",
              "      action: 'complete',\n",
              "    }\n",
              "  };\n",
              "}\n",
              "\n",
              "scope.google = scope.google || {};\n",
              "scope.google.colab = scope.google.colab || {};\n",
              "scope.google.colab._files = {\n",
              "  _uploadFiles,\n",
              "  _uploadFilesContinue,\n",
              "};\n",
              "})(self);\n",
              "</script> "
            ]
          },
          "metadata": {}
        },
        {
          "output_type": "stream",
          "name": "stdout",
          "text": [
            "Saving Netflix Inc. (NFLX) Stock Price 2002-2025.csv to Netflix Inc. (NFLX) Stock Price 2002-2025.csv\n"
          ]
        }
      ],
      "source": [
        "from google.colab import files\n",
        "\n",
        "uploaded = files.upload()"
      ]
    },
    {
      "cell_type": "code",
      "source": [],
      "metadata": {
        "id": "yGIpgZHY6w6I"
      },
      "execution_count": null,
      "outputs": []
    },
    {
      "cell_type": "code",
      "source": [
        "import pandas as pd\n",
        "\n",
        "df = pd.read_csv('Netflix Inc. (NFLX) Stock Price 2002-2025.csv')\n",
        "\n",
        "df.head()"
      ],
      "metadata": {
        "colab": {
          "base_uri": "https://localhost:8080/",
          "height": 206
        },
        "id": "RXx_MkNcVykX",
        "outputId": "13cb119f-510f-41bd-ddc7-473c8cf02534"
      },
      "execution_count": 2,
      "outputs": [
        {
          "output_type": "execute_result",
          "data": {
            "text/plain": [
              "           Date     Open       High       Low     Close Adj Close     Volume\n",
              "0  Feb 25, 2025     989.4     994.4       955    977.24    977.24  4,733,000\n",
              "1  Feb 24, 2025  1,008.00  1,015.17    984.48    988.47    988.47  4,426,200\n",
              "2  Feb 21, 2025  1,029.42  1,032.38    999.39  1,003.15  1,003.15  3,738,700\n",
              "3  Feb 20, 2025  1,042.00  1,045.00  1,015.59  1,024.54  1,024.54  3,111,800\n",
              "4  Feb 19, 2025  1,035.18  1,045.00  1,024.51  1,043.33  1,043.33  2,600,000"
            ],
            "text/html": [
              "\n",
              "  <div id=\"df-91c7312a-246d-4271-8894-dc4a4a2d2ecc\" class=\"colab-df-container\">\n",
              "    <div>\n",
              "<style scoped>\n",
              "    .dataframe tbody tr th:only-of-type {\n",
              "        vertical-align: middle;\n",
              "    }\n",
              "\n",
              "    .dataframe tbody tr th {\n",
              "        vertical-align: top;\n",
              "    }\n",
              "\n",
              "    .dataframe thead th {\n",
              "        text-align: right;\n",
              "    }\n",
              "</style>\n",
              "<table border=\"1\" class=\"dataframe\">\n",
              "  <thead>\n",
              "    <tr style=\"text-align: right;\">\n",
              "      <th></th>\n",
              "      <th>Date</th>\n",
              "      <th>Open</th>\n",
              "      <th>High</th>\n",
              "      <th>Low</th>\n",
              "      <th>Close</th>\n",
              "      <th>Adj Close</th>\n",
              "      <th>Volume</th>\n",
              "    </tr>\n",
              "  </thead>\n",
              "  <tbody>\n",
              "    <tr>\n",
              "      <th>0</th>\n",
              "      <td>Feb 25, 2025</td>\n",
              "      <td>989.4</td>\n",
              "      <td>994.4</td>\n",
              "      <td>955</td>\n",
              "      <td>977.24</td>\n",
              "      <td>977.24</td>\n",
              "      <td>4,733,000</td>\n",
              "    </tr>\n",
              "    <tr>\n",
              "      <th>1</th>\n",
              "      <td>Feb 24, 2025</td>\n",
              "      <td>1,008.00</td>\n",
              "      <td>1,015.17</td>\n",
              "      <td>984.48</td>\n",
              "      <td>988.47</td>\n",
              "      <td>988.47</td>\n",
              "      <td>4,426,200</td>\n",
              "    </tr>\n",
              "    <tr>\n",
              "      <th>2</th>\n",
              "      <td>Feb 21, 2025</td>\n",
              "      <td>1,029.42</td>\n",
              "      <td>1,032.38</td>\n",
              "      <td>999.39</td>\n",
              "      <td>1,003.15</td>\n",
              "      <td>1,003.15</td>\n",
              "      <td>3,738,700</td>\n",
              "    </tr>\n",
              "    <tr>\n",
              "      <th>3</th>\n",
              "      <td>Feb 20, 2025</td>\n",
              "      <td>1,042.00</td>\n",
              "      <td>1,045.00</td>\n",
              "      <td>1,015.59</td>\n",
              "      <td>1,024.54</td>\n",
              "      <td>1,024.54</td>\n",
              "      <td>3,111,800</td>\n",
              "    </tr>\n",
              "    <tr>\n",
              "      <th>4</th>\n",
              "      <td>Feb 19, 2025</td>\n",
              "      <td>1,035.18</td>\n",
              "      <td>1,045.00</td>\n",
              "      <td>1,024.51</td>\n",
              "      <td>1,043.33</td>\n",
              "      <td>1,043.33</td>\n",
              "      <td>2,600,000</td>\n",
              "    </tr>\n",
              "  </tbody>\n",
              "</table>\n",
              "</div>\n",
              "    <div class=\"colab-df-buttons\">\n",
              "\n",
              "  <div class=\"colab-df-container\">\n",
              "    <button class=\"colab-df-convert\" onclick=\"convertToInteractive('df-91c7312a-246d-4271-8894-dc4a4a2d2ecc')\"\n",
              "            title=\"Convert this dataframe to an interactive table.\"\n",
              "            style=\"display:none;\">\n",
              "\n",
              "  <svg xmlns=\"http://www.w3.org/2000/svg\" height=\"24px\" viewBox=\"0 -960 960 960\">\n",
              "    <path d=\"M120-120v-720h720v720H120Zm60-500h600v-160H180v160Zm220 220h160v-160H400v160Zm0 220h160v-160H400v160ZM180-400h160v-160H180v160Zm440 0h160v-160H620v160ZM180-180h160v-160H180v160Zm440 0h160v-160H620v160Z\"/>\n",
              "  </svg>\n",
              "    </button>\n",
              "\n",
              "  <style>\n",
              "    .colab-df-container {\n",
              "      display:flex;\n",
              "      gap: 12px;\n",
              "    }\n",
              "\n",
              "    .colab-df-convert {\n",
              "      background-color: #E8F0FE;\n",
              "      border: none;\n",
              "      border-radius: 50%;\n",
              "      cursor: pointer;\n",
              "      display: none;\n",
              "      fill: #1967D2;\n",
              "      height: 32px;\n",
              "      padding: 0 0 0 0;\n",
              "      width: 32px;\n",
              "    }\n",
              "\n",
              "    .colab-df-convert:hover {\n",
              "      background-color: #E2EBFA;\n",
              "      box-shadow: 0px 1px 2px rgba(60, 64, 67, 0.3), 0px 1px 3px 1px rgba(60, 64, 67, 0.15);\n",
              "      fill: #174EA6;\n",
              "    }\n",
              "\n",
              "    .colab-df-buttons div {\n",
              "      margin-bottom: 4px;\n",
              "    }\n",
              "\n",
              "    [theme=dark] .colab-df-convert {\n",
              "      background-color: #3B4455;\n",
              "      fill: #D2E3FC;\n",
              "    }\n",
              "\n",
              "    [theme=dark] .colab-df-convert:hover {\n",
              "      background-color: #434B5C;\n",
              "      box-shadow: 0px 1px 3px 1px rgba(0, 0, 0, 0.15);\n",
              "      filter: drop-shadow(0px 1px 2px rgba(0, 0, 0, 0.3));\n",
              "      fill: #FFFFFF;\n",
              "    }\n",
              "  </style>\n",
              "\n",
              "    <script>\n",
              "      const buttonEl =\n",
              "        document.querySelector('#df-91c7312a-246d-4271-8894-dc4a4a2d2ecc button.colab-df-convert');\n",
              "      buttonEl.style.display =\n",
              "        google.colab.kernel.accessAllowed ? 'block' : 'none';\n",
              "\n",
              "      async function convertToInteractive(key) {\n",
              "        const element = document.querySelector('#df-91c7312a-246d-4271-8894-dc4a4a2d2ecc');\n",
              "        const dataTable =\n",
              "          await google.colab.kernel.invokeFunction('convertToInteractive',\n",
              "                                                    [key], {});\n",
              "        if (!dataTable) return;\n",
              "\n",
              "        const docLinkHtml = 'Like what you see? Visit the ' +\n",
              "          '<a target=\"_blank\" href=https://colab.research.google.com/notebooks/data_table.ipynb>data table notebook</a>'\n",
              "          + ' to learn more about interactive tables.';\n",
              "        element.innerHTML = '';\n",
              "        dataTable['output_type'] = 'display_data';\n",
              "        await google.colab.output.renderOutput(dataTable, element);\n",
              "        const docLink = document.createElement('div');\n",
              "        docLink.innerHTML = docLinkHtml;\n",
              "        element.appendChild(docLink);\n",
              "      }\n",
              "    </script>\n",
              "  </div>\n",
              "\n",
              "\n",
              "    <div id=\"df-016b198e-373e-43e6-9605-dcc9ea344b30\">\n",
              "      <button class=\"colab-df-quickchart\" onclick=\"quickchart('df-016b198e-373e-43e6-9605-dcc9ea344b30')\"\n",
              "                title=\"Suggest charts\"\n",
              "                style=\"display:none;\">\n",
              "\n",
              "<svg xmlns=\"http://www.w3.org/2000/svg\" height=\"24px\"viewBox=\"0 0 24 24\"\n",
              "     width=\"24px\">\n",
              "    <g>\n",
              "        <path d=\"M19 3H5c-1.1 0-2 .9-2 2v14c0 1.1.9 2 2 2h14c1.1 0 2-.9 2-2V5c0-1.1-.9-2-2-2zM9 17H7v-7h2v7zm4 0h-2V7h2v10zm4 0h-2v-4h2v4z\"/>\n",
              "    </g>\n",
              "</svg>\n",
              "      </button>\n",
              "\n",
              "<style>\n",
              "  .colab-df-quickchart {\n",
              "      --bg-color: #E8F0FE;\n",
              "      --fill-color: #1967D2;\n",
              "      --hover-bg-color: #E2EBFA;\n",
              "      --hover-fill-color: #174EA6;\n",
              "      --disabled-fill-color: #AAA;\n",
              "      --disabled-bg-color: #DDD;\n",
              "  }\n",
              "\n",
              "  [theme=dark] .colab-df-quickchart {\n",
              "      --bg-color: #3B4455;\n",
              "      --fill-color: #D2E3FC;\n",
              "      --hover-bg-color: #434B5C;\n",
              "      --hover-fill-color: #FFFFFF;\n",
              "      --disabled-bg-color: #3B4455;\n",
              "      --disabled-fill-color: #666;\n",
              "  }\n",
              "\n",
              "  .colab-df-quickchart {\n",
              "    background-color: var(--bg-color);\n",
              "    border: none;\n",
              "    border-radius: 50%;\n",
              "    cursor: pointer;\n",
              "    display: none;\n",
              "    fill: var(--fill-color);\n",
              "    height: 32px;\n",
              "    padding: 0;\n",
              "    width: 32px;\n",
              "  }\n",
              "\n",
              "  .colab-df-quickchart:hover {\n",
              "    background-color: var(--hover-bg-color);\n",
              "    box-shadow: 0 1px 2px rgba(60, 64, 67, 0.3), 0 1px 3px 1px rgba(60, 64, 67, 0.15);\n",
              "    fill: var(--button-hover-fill-color);\n",
              "  }\n",
              "\n",
              "  .colab-df-quickchart-complete:disabled,\n",
              "  .colab-df-quickchart-complete:disabled:hover {\n",
              "    background-color: var(--disabled-bg-color);\n",
              "    fill: var(--disabled-fill-color);\n",
              "    box-shadow: none;\n",
              "  }\n",
              "\n",
              "  .colab-df-spinner {\n",
              "    border: 2px solid var(--fill-color);\n",
              "    border-color: transparent;\n",
              "    border-bottom-color: var(--fill-color);\n",
              "    animation:\n",
              "      spin 1s steps(1) infinite;\n",
              "  }\n",
              "\n",
              "  @keyframes spin {\n",
              "    0% {\n",
              "      border-color: transparent;\n",
              "      border-bottom-color: var(--fill-color);\n",
              "      border-left-color: var(--fill-color);\n",
              "    }\n",
              "    20% {\n",
              "      border-color: transparent;\n",
              "      border-left-color: var(--fill-color);\n",
              "      border-top-color: var(--fill-color);\n",
              "    }\n",
              "    30% {\n",
              "      border-color: transparent;\n",
              "      border-left-color: var(--fill-color);\n",
              "      border-top-color: var(--fill-color);\n",
              "      border-right-color: var(--fill-color);\n",
              "    }\n",
              "    40% {\n",
              "      border-color: transparent;\n",
              "      border-right-color: var(--fill-color);\n",
              "      border-top-color: var(--fill-color);\n",
              "    }\n",
              "    60% {\n",
              "      border-color: transparent;\n",
              "      border-right-color: var(--fill-color);\n",
              "    }\n",
              "    80% {\n",
              "      border-color: transparent;\n",
              "      border-right-color: var(--fill-color);\n",
              "      border-bottom-color: var(--fill-color);\n",
              "    }\n",
              "    90% {\n",
              "      border-color: transparent;\n",
              "      border-bottom-color: var(--fill-color);\n",
              "    }\n",
              "  }\n",
              "</style>\n",
              "\n",
              "      <script>\n",
              "        async function quickchart(key) {\n",
              "          const quickchartButtonEl =\n",
              "            document.querySelector('#' + key + ' button');\n",
              "          quickchartButtonEl.disabled = true;  // To prevent multiple clicks.\n",
              "          quickchartButtonEl.classList.add('colab-df-spinner');\n",
              "          try {\n",
              "            const charts = await google.colab.kernel.invokeFunction(\n",
              "                'suggestCharts', [key], {});\n",
              "          } catch (error) {\n",
              "            console.error('Error during call to suggestCharts:', error);\n",
              "          }\n",
              "          quickchartButtonEl.classList.remove('colab-df-spinner');\n",
              "          quickchartButtonEl.classList.add('colab-df-quickchart-complete');\n",
              "        }\n",
              "        (() => {\n",
              "          let quickchartButtonEl =\n",
              "            document.querySelector('#df-016b198e-373e-43e6-9605-dcc9ea344b30 button');\n",
              "          quickchartButtonEl.style.display =\n",
              "            google.colab.kernel.accessAllowed ? 'block' : 'none';\n",
              "        })();\n",
              "      </script>\n",
              "    </div>\n",
              "\n",
              "    </div>\n",
              "  </div>\n"
            ],
            "application/vnd.google.colaboratory.intrinsic+json": {
              "type": "dataframe",
              "variable_name": "df",
              "summary": "{\n  \"name\": \"df\",\n  \"rows\": 5729,\n  \"fields\": [\n    {\n      \"column\": \"Date\",\n      \"properties\": {\n        \"dtype\": \"object\",\n        \"num_unique_values\": 5727,\n        \"samples\": [\n          \"Dec 29, 2010\",\n          \"Jun 27, 2002\",\n          \"Sep 3, 2009\"\n        ],\n        \"semantic_type\": \"\",\n        \"description\": \"\"\n      }\n    },\n    {\n      \"column\": \"Open \",\n      \"properties\": {\n        \"dtype\": \"string\",\n        \"num_unique_values\": 4092,\n        \"samples\": [\n          \"235.35\",\n          \"408.65\",\n          \"103.18\"\n        ],\n        \"semantic_type\": \"\",\n        \"description\": \"\"\n      }\n    },\n    {\n      \"column\": \"High\",\n      \"properties\": {\n        \"dtype\": \"string\",\n        \"num_unique_values\": 4114,\n        \"samples\": [\n          \"678.97\",\n          \"673.67\",\n          \"31.34\"\n        ],\n        \"semantic_type\": \"\",\n        \"description\": \"\"\n      }\n    },\n    {\n      \"column\": \"Low\",\n      \"properties\": {\n        \"dtype\": \"string\",\n        \"num_unique_values\": 4113,\n        \"samples\": [\n          \"632.6\",\n          \"670.02\",\n          \"328.89\"\n        ],\n        \"semantic_type\": \"\",\n        \"description\": \"\"\n      }\n    },\n    {\n      \"column\": \"Close\",\n      \"properties\": {\n        \"dtype\": \"string\",\n        \"num_unique_values\": 4164,\n        \"samples\": [\n          \"143.74\",\n          \"6.36\",\n          \"54.84\"\n        ],\n        \"semantic_type\": \"\",\n        \"description\": \"\"\n      }\n    },\n    {\n      \"column\": \"Adj Close\",\n      \"properties\": {\n        \"dtype\": \"string\",\n        \"num_unique_values\": 4164,\n        \"samples\": [\n          \"143.74\",\n          \"6.36\",\n          \"54.84\"\n        ],\n        \"semantic_type\": \"\",\n        \"description\": \"\"\n      }\n    },\n    {\n      \"column\": \"Volume\",\n      \"properties\": {\n        \"dtype\": \"string\",\n        \"num_unique_values\": 5560,\n        \"samples\": [\n          \"5,276,900\",\n          \"11,310,600\",\n          \"5,439,600\"\n        ],\n        \"semantic_type\": \"\",\n        \"description\": \"\"\n      }\n    }\n  ]\n}"
            }
          },
          "metadata": {},
          "execution_count": 2
        }
      ]
    },
    {
      "cell_type": "code",
      "source": [
        "df['Date'] = pd.to_datetime(df['Date'])\n",
        "\n",
        "df = df.sort_values('Date').reset_index(drop=True)\n",
        "data = df[['Close']].copy()\n",
        "\n",
        "\n",
        "print(data.head())\n",
        "print(data.columns)\n",
        "\n",
        "print(df.dtypes)\n",
        "print(df['Date'].head())"
      ],
      "metadata": {
        "colab": {
          "base_uri": "https://localhost:8080/"
        },
        "id": "wQ_8y7kfWPHV",
        "outputId": "be502163-573f-4476-cae2-7deb729cb4e2"
      },
      "execution_count": null,
      "outputs": [
        {
          "output_type": "stream",
          "name": "stdout",
          "text": [
            "  Close\n",
            "0   1.2\n",
            "1  1.21\n",
            "2  1.16\n",
            "3   1.1\n",
            "4  1.07\n",
            "Index(['Close'], dtype='object')\n",
            "Date         datetime64[ns]\n",
            "Open                 object\n",
            "High                 object\n",
            "Low                  object\n",
            "Close                object\n",
            "Adj Close            object\n",
            "Volume               object\n",
            "dtype: object\n",
            "0   2002-05-23\n",
            "1   2002-05-24\n",
            "2   2002-05-28\n",
            "3   2002-05-29\n",
            "4   2002-05-30\n",
            "Name: Date, dtype: datetime64[ns]\n"
          ]
        }
      ]
    },
    {
      "cell_type": "code",
      "source": [
        "\n",
        "df['Close'] = pd.to_numeric(df['Close'], errors='coerce')\n",
        "df = df.dropna(subset=['Close'])\n",
        "print(df['Close'].isna().sum())  # should be 0"
      ],
      "metadata": {
        "colab": {
          "base_uri": "https://localhost:8080/"
        },
        "id": "ArLk6deyeUpo",
        "outputId": "ac49d381-6a30-438a-b7bf-0e8c0b2dc1f1"
      },
      "execution_count": null,
      "outputs": [
        {
          "output_type": "stream",
          "name": "stdout",
          "text": [
            "0\n"
          ]
        }
      ]
    },
    {
      "cell_type": "code",
      "source": [
        "import matplotlib.pyplot as plt\n",
        "\n",
        "plt.figure(figsize=(12, 6))\n",
        "plt.plot(df['Date'], df['Close'], color='blue', linewidth=1)\n",
        "plt.title(\"Netflix Stock Closing Prices (2002–2025)\", fontsize=16)\n",
        "plt.xlabel(\"Date\")\n",
        "plt.ylabel(\"Close Price (USD)\")\n",
        "plt.grid(True)\n",
        "plt.tight_layout()\n",
        "plt.show()\n"
      ],
      "metadata": {
        "colab": {
          "base_uri": "https://localhost:8080/",
          "height": 556
        },
        "id": "9WswXPZ5cECh",
        "outputId": "d99614fa-574b-44ad-fcef-b09ebb4a68ba"
      },
      "execution_count": null,
      "outputs": [
        {
          "output_type": "display_data",
          "data": {
            "text/plain": [
              "<Figure size 1200x600 with 1 Axes>"
            ],
            "image/png": "[encoded data removed]"
          },
          "metadata": {}
        }
      ]
    },
    {
      "cell_type": "code",
      "source": [
        "import numpy as np\n",
        "from sklearn.preprocessing import MinMaxScaler\n",
        "\n",
        "close_prices = df[['Close']].values\n",
        "\n",
        "train_size = int(len(df) * 0.8)\n",
        "train_df = df[:train_size]\n",
        "test_df = df[train_size:]\n",
        "\n",
        "\n",
        "scaler = MinMaxScaler()\n",
        "\n",
        "train_scaled = scaler.fit_transform(train_df[['Close']])\n",
        "test_scaled = scaler.transform(test_df[['Close']])\n",
        "\n",
        "print(train_scaled[:2])\n",
        "print(test_scaled[:2])\n",
        "\n",
        "print(np.isnan(train_scaled).sum())  # should be 0\n",
        "\n",
        "print(np.isnan(test_scaled).sum())  # should be 0\n"
      ],
      "metadata": {
        "colab": {
          "base_uri": "https://localhost:8080/"
        },
        "id": "r0dpTAgwes2e",
        "outputId": "b8624db4-afc1-48b8-87e7-8a5b3f8ee35a"
      },
      "execution_count": null,
      "outputs": [
        {
          "output_type": "stream",
          "name": "stdout",
          "text": [
            "[[0.0015136 ]\n",
            " [0.00153184]]\n",
            "[[0.89257057]\n",
            " [0.87024947]]\n",
            "0\n",
            "0\n"
          ]
        }
      ]
    },
    {
      "cell_type": "code",
      "source": [
        "import torch\n",
        "\n",
        "SEQ_len = 30\n",
        "\n",
        "def create_sequences(data, seq_len):\n",
        "    X, y = [], []\n",
        "    for i in range(seq_len, len(data)):\n",
        "        seq = data[i - seq_len:i]\n",
        "        target = data[i]\n",
        "\n",
        "        if not np.isnan(seq).any() and not np.isnan(target).any():\n",
        "            X.append(seq)\n",
        "            y.append(target)\n",
        "\n",
        "    return torch.tensor(X, dtype=torch.float32), torch.tensor(y, dtype=torch.float32)\n",
        "\n",
        "X_train, y_train = create_sequences(train_scaled, SEQ_len)\n",
        "X_test, y_test = create_sequences(test_scaled, SEQ_len)\n",
        "\n",
        "print(f'X_train shape: {X_train.shape}')\n",
        "print(f'y_train shape: {y_train.shape}')\n",
        "\n",
        "X_train, y_train, X_test, y_test = X_train.float(), y_train.float(), X_test.float(), y_test.float()\n",
        "\n",
        "\n"
      ],
      "metadata": {
        "colab": {
          "base_uri": "https://localhost:8080/"
        },
        "id": "xt7iozhegJAw",
        "outputId": "994d6e06-b991-47c4-f885-5e94859962c1"
      },
      "execution_count": null,
      "outputs": [
        {
          "output_type": "stream",
          "name": "stdout",
          "text": [
            "X_train shape: torch.Size([4542, 30, 1])\n",
            "y_train shape: torch.Size([4542, 1])\n"
          ]
        },
        {
          "output_type": "stream",
          "name": "stderr",
          "text": [
            "<ipython-input-12-26c58ad1f9f2>:15: UserWarning: Creating a tensor from a list of numpy.ndarrays is extremely slow. Please consider converting the list to a single numpy.ndarray with numpy.array() before converting to a tensor. (Triggered internally at /pytorch/torch/csrc/utils/tensor_new.cpp:254.)\n",
            "  return torch.tensor(X, dtype=torch.float32), torch.tensor(y, dtype=torch.float32)\n"
          ]
        }
      ]
    },
    {
      "cell_type": "code",
      "source": [
        "print(torch.isnan(X_train).sum())  # should be 0\n",
        "print(torch.isnan(y_train).sum())  # should be 0\n",
        "print(torch.isnan(X_test).sum())  # should be 0\n",
        "print(torch.isnan(y_test).sum())  # should be 0\n"
      ],
      "metadata": {
        "colab": {
          "base_uri": "https://localhost:8080/"
        },
        "id": "HuBi3yX5GZZ0",
        "outputId": "3145978d-6366-4c5b-ed7a-e8fb55379203"
      },
      "execution_count": null,
      "outputs": [
        {
          "output_type": "stream",
          "name": "stdout",
          "text": [
            "tensor(0)\n",
            "tensor(0)\n",
            "tensor(0)\n",
            "tensor(0)\n"
          ]
        }
      ]
    },
    {
      "cell_type": "code",
      "source": [],
      "metadata": {
        "id": "ubtUQ_s8j26W"
      },
      "execution_count": null,
      "outputs": []
    },
    {
      "cell_type": "code",
      "source": [
        "## create a dataset class to make it easier to iterate through the data in batches automatically\n",
        "\n",
        "from torch.utils.data import Dataset\n",
        "\n",
        "class StockDataset(Dataset):\n",
        "  def __init__(self, X, y):\n",
        "    self.X = X\n",
        "    self.y = y\n",
        "\n",
        "  def __len__(self):\n",
        "    return len(self.X)\n",
        "\n",
        "  def __getitem__(self, idx):\n",
        "    return self.X[idx], self.y[idx]\n",
        "\n"
      ],
      "metadata": {
        "id": "g2VXHmnXlh5J"
      },
      "execution_count": null,
      "outputs": []
    },
    {
      "cell_type": "code",
      "source": [
        "from torch.utils.data import DataLoader\n",
        "\n",
        "train_dataset = StockDataset(X_train, y_train)\n",
        "train_loader = DataLoader(train_dataset, batch_size=64, shuffle=False)\n",
        "test_dataset = StockDataset(X_test, y_test)\n",
        "test_loader = DataLoader(test_dataset, batch_size=64, shuffle=False)"
      ],
      "metadata": {
        "id": "mGfVa0exl2zh"
      },
      "execution_count": null,
      "outputs": []
    },
    {
      "cell_type": "markdown",
      "source": [
        "### USING LSTM\n",
        "\n",
        "LSTM is Long Short Term Memory. this is a recurrent neural network, and is used in problems where the order of the sequence matters. so for stock prices, the past data and the order it is in is important to predict the future price. LSTM basically remembers certain features in the data and decides which of these feautres to send to the next layer, so the model learns based on previous data instead of in isolation.\n",
        "\n",
        "**An LSTM cell contains three key gates and a memory state:**\n",
        "\n",
        "* Forget Gate: decides what information to forget from the memory\n",
        "\n",
        "* Input Gate: decides what new information to add\n",
        "\n",
        "* Output Gate: decides what part of memory to expose as output\n",
        "\n",
        "* Cell State: the long-term memory of the LSTM\n",
        "\n",
        "Every gate uses: weighted sum of inputs (W * x + U * h + b) → sigmoid or tanh\n",
        "\n",
        "\n",
        "\n",
        "\n",
        "\n",
        "\n",
        "\n"
      ],
      "metadata": {
        "id": "sxBwnnv3_s2c"
      }
    },
    {
      "cell_type": "code",
      "source": [
        "import torch.nn as nn\n",
        "\n",
        "class LSTMModel(nn.Module):\n",
        "  def __init__(self):\n",
        "    super().__init__()\n",
        "\n",
        "    self.lstm = nn.LSTM(\n",
        "        input_size = 1, #just the close price\n",
        "        hidden_size = 32, #similar to hidden units, i can choose this\n",
        "        num_layers = 1, #number of stacked LSTM layers\n",
        "        batch_first = True #this makes input in this format: (batch, seq_len, features)\n",
        "    )\n",
        "\n",
        "    self.fc = nn.Linear(in_features=32, out_features=1) #output layer this will map the LSTM output -> predicted stock price\n",
        "\n",
        "  def forward(self, x):\n",
        "    lstm_out, _ =  self.lstm(x) #take one batch of data and put it into the LSTM layers, so your output is a (64,30,64) tensor, where 64 is batch, 30 is seq and 64 is hidden_size\n",
        "    out = lstm_out[:,-1,:] #take the output of the 30th day in the batch(last time step)\n",
        "    out = self.fc(out) #pass this into the linear layer to get the final prediction\n",
        "    return out\n",
        "\n"
      ],
      "metadata": {
        "id": "A_K_Qmpp-tGs"
      },
      "execution_count": null,
      "outputs": []
    },
    {
      "cell_type": "code",
      "source": [
        "model_0 = LSTMModel()\n"
      ],
      "metadata": {
        "id": "y8w6nnPMCJFV"
      },
      "execution_count": null,
      "outputs": []
    },
    {
      "cell_type": "code",
      "source": [
        "print(X_train.dtype, y_train.dtype)\n",
        "print(X_train.min(), X_train.max())  # should be between 0 and 1\n",
        "print(y_train.min(), y_train.max())  # should also be 0–1 (if scaled)\n"
      ],
      "metadata": {
        "colab": {
          "base_uri": "https://localhost:8080/"
        },
        "id": "nYZ6HTB5F3u3",
        "outputId": "ece48ee1-d5e4-422e-ae80-3146c3dac02a"
      },
      "execution_count": null,
      "outputs": [
        {
          "output_type": "stream",
          "name": "stdout",
          "text": [
            "torch.float32 torch.float32\n",
            "tensor(0.) tensor(1.)\n",
            "tensor(0.) tensor(1.)\n"
          ]
        }
      ]
    },
    {
      "cell_type": "code",
      "source": [
        "loss_fn = nn.MSELoss()\n",
        "optimizer = torch.optim.Adam(model_0.parameters(), lr=0.005)"
      ],
      "metadata": {
        "id": "amoaJniZDLWg"
      },
      "execution_count": null,
      "outputs": []
    },
    {
      "cell_type": "code",
      "source": [
        "## Train test loop\n",
        "\n",
        "device = 'cuda' if torch.cuda.is_available() else 'cpu'\n",
        "model_0.to(device)\n",
        "torch.manual_seed(42)\n",
        "torch.cuda.manual_seed(42)\n",
        "\n",
        "epochs = 50\n",
        "\n",
        "for epoch in range(epochs):\n",
        "  model_0.train()\n",
        "  train_loss = 0\n",
        "\n",
        "  for X_batch, y_batch in (train_loader):\n",
        "    X_batch, y_batch = X_batch.to(device).float(), y_batch.to(device).float()\n",
        "\n",
        "    y_pred = model_0(X_batch)\n",
        "    loss = loss_fn(y_pred, y_batch)\n",
        "\n",
        "    optimizer.zero_grad()\n",
        "    loss.backward()\n",
        "    torch.nn.utils.clip_grad_norm_(model_0.parameters(), max_norm=1.0)\n",
        "\n",
        "    optimizer.step()\n",
        "    train_loss += loss.item()\n",
        "\n",
        "  model_0.eval()\n",
        "  with torch.inference_mode():\n",
        "    test_loss = 0\n",
        "    for X_batch, y_batch in test_loader:\n",
        "      X_batch, y_batch = X_batch.to(device), y_batch.to(device)\n",
        "      test_pred = model_0(X_batch)\n",
        "      loss = loss_fn(test_pred, y_batch)\n",
        "      test_loss += loss.item()\n",
        "\n",
        "  avg_train_loss = train_loss / len(train_loader)\n",
        "  avg_test_loss = test_loss / len(test_loader)\n",
        "\n",
        "\n",
        "  if epoch % 10 == 0:\n",
        "    print(f\"Epoch: {epoch:3} | Train Loss: {avg_train_loss:.6f} | Test Loss: {avg_test_loss:.6f}\")\n",
        "\n",
        "\n"
      ],
      "metadata": {
        "colab": {
          "base_uri": "https://localhost:8080/"
        },
        "id": "rYwIt9JjDSec",
        "outputId": "615f9ca0-28de-4f8e-d3b0-17162ad13cfd"
      },
      "execution_count": null,
      "outputs": [
        {
          "output_type": "stream",
          "name": "stdout",
          "text": [
            "Epoch:   0 | Train Loss: 0.003452 | Test Loss: 0.170537\n",
            "Epoch:  10 | Train Loss: 0.000524 | Test Loss: 0.030870\n",
            "Epoch:  20 | Train Loss: 0.000247 | Test Loss: 0.012936\n",
            "Epoch:  30 | Train Loss: 0.000193 | Test Loss: 0.006696\n",
            "Epoch:  40 | Train Loss: 0.000791 | Test Loss: 0.003885\n"
          ]
        }
      ]
    },
    {
      "cell_type": "code",
      "source": [
        "model_0.eval()\n",
        "\n",
        "with torch.inference_mode():\n",
        "    X_test = X_test.to(device)\n",
        "    preds = model_0(X_test).cpu().numpy()\n",
        "    true = y_test.cpu().numpy()\n"
      ],
      "metadata": {
        "id": "b3XpbnKgzizi"
      },
      "execution_count": null,
      "outputs": []
    },
    {
      "cell_type": "code",
      "source": [
        "# Reshape to 2D since scaler expects that\n",
        "preds_unscaled = scaler.inverse_transform(preds.reshape(-1, 1))\n",
        "true_unscaled = scaler.inverse_transform(true.reshape(-1, 1))\n"
      ],
      "metadata": {
        "id": "XZJ5Hxhdzo2b"
      },
      "execution_count": null,
      "outputs": []
    },
    {
      "cell_type": "code",
      "source": [
        "import matplotlib.pyplot as plt\n",
        "\n",
        "plt.figure(figsize=(12, 6))\n",
        "plt.plot(true_unscaled, label='Actual Price')\n",
        "plt.plot(preds_unscaled, label='Predicted Price')\n",
        "plt.title('Netflix Stock Price Prediction')\n",
        "plt.xlabel('Time (Test Set)')\n",
        "plt.ylabel('Close Price (USD)')\n",
        "plt.legend()\n",
        "plt.grid(True)\n",
        "plt.tight_layout()\n",
        "plt.show()\n"
      ],
      "metadata": {
        "colab": {
          "base_uri": "https://localhost:8080/",
          "height": 627
        },
        "id": "1Ggt-j4FzshK",
        "outputId": "e7f98f45-5ff4-4e69-fa04-129eb76c3507"
      },
      "execution_count": null,
      "outputs": [
        {
          "output_type": "display_data",
          "data": {
            "text/plain": [
              "<Figure size 1200x600 with 1 Axes>"
            ],
            "image/png": "[encoded data removed]"
          },
          "metadata": {}
        }
      ]
    },
    {
      "cell_type": "code",
      "source": [
        "from pathlib import Path\n",
        "\n",
        "MODEL_PATH = Path('models')\n",
        "MODEL_PATH.mkdir(parents=True, exist_ok=True)\n",
        "\n",
        "MODEL_NAME = 'LSTM_model.pth'\n",
        "MODEL_SAVE_PATH = MODEL_PATH / MODEL_NAME\n",
        "\n",
        "print(f'saving model to {MODEL_SAVE_PATH}')\n",
        "\n",
        "torch.save(obj=model_0.state_dict(), f=MODEL_SAVE_PATH)"
      ],
      "metadata": {
        "colab": {
          "base_uri": "https://localhost:8080/"
        },
        "id": "E-yYlbmM1pfa",
        "outputId": "62187f91-da42-45fe-f5e7-e48febd5486f"
      },
      "execution_count": null,
      "outputs": [
        {
          "output_type": "stream",
          "name": "stdout",
          "text": [
            "saving model to models/LSTM_model.pth\n"
          ]
        }
      ]
    },
    {
      "cell_type": "code",
      "source": [
        "loaded_model_0 = LSTMModel()\n",
        "loaded_model_0.load_state_dict(torch.load(f=MODEL_SAVE_PATH))\n"
      ],
      "metadata": {
        "colab": {
          "base_uri": "https://localhost:8080/"
        },
        "id": "M0QqgXdt2GRz",
        "outputId": "32a699a8-9fd0-43ea-a891-74da9df10cd6"
      },
      "execution_count": null,
      "outputs": [
        {
          "output_type": "execute_result",
          "data": {
            "text/plain": [
              "<All keys matched successfully>"
            ]
          },
          "metadata": {},
          "execution_count": 31
        }
      ]
    },
    {
      "cell_type": "code",
      "source": [
        "from sklearn.metrics import mean_squared_error, mean_absolute_error, r2_score\n",
        "\n",
        "mse = mean_squared_error(true_unscaled, preds_unscaled) #mean squared error\n",
        "rmse = mse**0.5 #root mean squared error\n",
        "mae = mean_absolute_error(true_unscaled, preds_unscaled) #mean absolute error\n",
        "r2 = r2_score(true_unscaled, preds_unscaled) #coefficient of determination\n",
        "\n",
        "print(f'RMSE: ${rmse:.3f}')\n",
        "print(f'MAE: ${mae:.3f}')\n",
        "print(f'R2 score: {r2:.3f}')"
      ],
      "metadata": {
        "colab": {
          "base_uri": "https://localhost:8080/"
        },
        "id": "oeMsexNR2QRm",
        "outputId": "54b4ac7a-8ca2-428a-8cb7-7cf7a9a8ddfd"
      },
      "execution_count": null,
      "outputs": [
        {
          "output_type": "stream",
          "name": "stdout",
          "text": [
            "RMSE: $28.186\n",
            "MAE: $18.405\n",
            "R2 score: 0.974\n"
          ]
        }
      ]
    },
    {
      "cell_type": "code",
      "source": [
        "X_test_np = X_test.cpu().numpy()\n",
        "\n",
        "ma_preds = np.mean(X_test_np[:, -7:, 0], axis=1)  # 7-day avg\n",
        "ma_preds = ma_preds.reshape(-1, 1)\n",
        "ma_preds_unscaled = scaler.inverse_transform(ma_preds)\n",
        "\n",
        "# Compare metrics\n",
        "ma_mse = mean_squared_error(true_unscaled, ma_preds_unscaled)\n",
        "ma_rmse = ma_mse**0.5\n",
        "print(f\"Moving Average RMSE: ${ma_rmse:.2f}\")\n"
      ],
      "metadata": {
        "colab": {
          "base_uri": "https://localhost:8080/"
        },
        "id": "ON5qisxq39Ye",
        "outputId": "26cce66a-4de5-440e-8862-787a725ee3d5"
      },
      "execution_count": null,
      "outputs": [
        {
          "output_type": "stream",
          "name": "stdout",
          "text": [
            "Moving Average RMSE: $20.96\n"
          ]
        }
      ]
    },
    {
      "cell_type": "markdown",
      "source": [
        "### Now try doing it with more columns to improve the model.\n",
        "\n",
        "I am going to use Open, Close, Low, High, and Volume"
      ],
      "metadata": {
        "id": "eszHTMwjmHSq"
      }
    },
    {
      "cell_type": "code",
      "source": [
        "from google.colab import files\n",
        "\n",
        "uploaded = files.upload()\n"
      ],
      "metadata": {
        "colab": {
          "base_uri": "https://localhost:8080/",
          "height": 74
        },
        "id": "5Q6AOiNfmUPI",
        "outputId": "995aac0b-70f6-4862-f249-47bf34a738af"
      },
      "execution_count": null,
      "outputs": [
        {
          "output_type": "display_data",
          "data": {
            "text/plain": [
              "<IPython.core.display.HTML object>"
            ],
            "text/html": [
              "\n",
              "     <input type=\"file\" id=\"files-79efd32a-0a50-4ff2-810a-e272994a3035\" name=\"files[]\" multiple disabled\n",
              "        style=\"border:none\" />\n",
              "     <output id=\"result-79efd32a-0a50-4ff2-810a-e272994a3035\">\n",
              "      Upload widget is only available when the cell has been executed in the\n",
              "      current browser session. Please rerun this cell to enable.\n",
              "      </output>\n",
              "      <script>// Copyright 2017 Google LLC\n",
              "//\n",
              "// Licensed under the Apache License, Version 2.0 (the \"License\");\n",
              "// you may not use this file except in compliance with the License.\n",
              "// You may obtain a copy of the License at\n",
              "//\n",
              "//      http://www.apache.org/licenses/LICENSE-2.0\n",
              "//\n",
              "// Unless required by applicable law or agreed to in writing, software\n",
              "// distributed under the License is distributed on an \"AS IS\" BASIS,\n",
              "// WITHOUT WARRANTIES OR CONDITIONS OF ANY KIND, either express or implied.\n",
              "// See the License for the specific language governing permissions and\n",
              "// limitations under the License.\n",
              "\n",
              "/**\n",
              " * @fileoverview Helpers for google.colab Python module.\n",
              " */\n",
              "(function(scope) {\n",
              "function span(text, styleAttributes = {}) {\n",
              "  const element = document.createElement('span');\n",
              "  element.textContent = text;\n",
              "  for (const key of Object.keys(styleAttributes)) {\n",
              "    element.style[key] = styleAttributes[key];\n",
              "  }\n",
              "  return element;\n",
              "}\n",
              "\n",
              "// Max number of bytes which will be uploaded at a time.\n",
              "const MAX_PAYLOAD_SIZE = 100 * 1024;\n",
              "\n",
              "function _uploadFiles(inputId, outputId) {\n",
              "  const steps = uploadFilesStep(inputId, outputId);\n",
              "  const outputElement = document.getElementById(outputId);\n",
              "  // Cache steps on the outputElement to make it available for the next call\n",
              "  // to uploadFilesContinue from Python.\n",
              "  outputElement.steps = steps;\n",
              "\n",
              "  return _uploadFilesContinue(outputId);\n",
              "}\n",
              "\n",
              "// This is roughly an async generator (not supported in the browser yet),\n",
              "// where there are multiple asynchronous steps and the Python side is going\n",
              "// to poll for completion of each step.\n",
              "// This uses a Promise to block the python side on completion of each step,\n",
              "// then passes the result of the previous step as the input to the next step.\n",
              "function _uploadFilesContinue(outputId) {\n",
              "  const outputElement = document.getElementById(outputId);\n",
              "  const steps = outputElement.steps;\n",
              "\n",
              "  const next = steps.next(outputElement.lastPromiseValue);\n",
              "  return Promise.resolve(next.value.promise).then((value) => {\n",
              "    // Cache the last promise value to make it available to the next\n",
              "    // step of the generator.\n",
              "    outputElement.lastPromiseValue = value;\n",
              "    return next.value.response;\n",
              "  });\n",
              "}\n",
              "\n",
              "/**\n",
              " * Generator function which is called between each async step of the upload\n",
              " * process.\n",
              " * @param {string} inputId Element ID of the input file picker element.\n",
              " * @param {string} outputId Element ID of the output display.\n",
              " * @return {!Iterable<!Object>} Iterable of next steps.\n",
              " */\n",
              "function* uploadFilesStep(inputId, outputId) {\n",
              "  const inputElement = document.getElementById(inputId);\n",
              "  inputElement.disabled = false;\n",
              "\n",
              "  const outputElement = document.getElementById(outputId);\n",
              "  outputElement.innerHTML = '';\n",
              "\n",
              "  const pickedPromise = new Promise((resolve) => {\n",
              "    inputElement.addEventListener('change', (e) => {\n",
              "      resolve(e.target.files);\n",
              "    });\n",
              "  });\n",
              "\n",
              "  const cancel = document.createElement('button');\n",
              "  inputElement.parentElement.appendChild(cancel);\n",
              "  cancel.textContent = 'Cancel upload';\n",
              "  const cancelPromise = new Promise((resolve) => {\n",
              "    cancel.onclick = () => {\n",
              "      resolve(null);\n",
              "    };\n",
              "  });\n",
              "\n",
              "  // Wait for the user to pick the files.\n",
              "  const files = yield {\n",
              "    promise: Promise.race([pickedPromise, cancelPromise]),\n",
              "    response: {\n",
              "      action: 'starting',\n",
              "    }\n",
              "  };\n",
              "\n",
              "  cancel.remove();\n",
              "\n",
              "  // Disable the input element since further picks are not allowed.\n",
              "  inputElement.disabled = true;\n",
              "\n",
              "  if (!files) {\n",
              "    return {\n",
              "      response: {\n",
              "        action: 'complete',\n",
              "      }\n",
              "    };\n",
              "  }\n",
              "\n",
              "  for (const file of files) {\n",
              "    const li = document.createElement('li');\n",
              "    li.append(span(file.name, {fontWeight: 'bold'}));\n",
              "    li.append(span(\n",
              "        `(${file.type || 'n/a'}) - ${file.size} bytes, ` +\n",
              "        `last modified: ${\n",
              "            file.lastModifiedDate ? file.lastModifiedDate.toLocaleDateString() :\n",
              "                                    'n/a'} - `));\n",
              "    const percent = span('0% done');\n",
              "    li.appendChild(percent);\n",
              "\n",
              "    outputElement.appendChild(li);\n",
              "\n",
              "    const fileDataPromise = new Promise((resolve) => {\n",
              "      const reader = new FileReader();\n",
              "      reader.onload = (e) => {\n",
              "        resolve(e.target.result);\n",
              "      };\n",
              "      reader.readAsArrayBuffer(file);\n",
              "    });\n",
              "    // Wait for the data to be ready.\n",
              "    let fileData = yield {\n",
              "      promise: fileDataPromise,\n",
              "      response: {\n",
              "        action: 'continue',\n",
              "      }\n",
              "    };\n",
              "\n",
              "    // Use a chunked sending to avoid message size limits. See b/62115660.\n",
              "    let position = 0;\n",
              "    do {\n",
              "      const length = Math.min(fileData.byteLength - position, MAX_PAYLOAD_SIZE);\n",
              "      const chunk = new Uint8Array(fileData, position, length);\n",
              "      position += length;\n",
              "\n",
              "      const base64 = btoa(String.fromCharCode.apply(null, chunk));\n",
              "      yield {\n",
              "        response: {\n",
              "          action: 'append',\n",
              "          file: file.name,\n",
              "          data: base64,\n",
              "        },\n",
              "      };\n",
              "\n",
              "      let percentDone = fileData.byteLength === 0 ?\n",
              "          100 :\n",
              "          Math.round((position / fileData.byteLength) * 100);\n",
              "      percent.textContent = `${percentDone}% done`;\n",
              "\n",
              "    } while (position < fileData.byteLength);\n",
              "  }\n",
              "\n",
              "  // All done.\n",
              "  yield {\n",
              "    response: {\n",
              "      action: 'complete',\n",
              "    }\n",
              "  };\n",
              "}\n",
              "\n",
              "scope.google = scope.google || {};\n",
              "scope.google.colab = scope.google.colab || {};\n",
              "scope.google.colab._files = {\n",
              "  _uploadFiles,\n",
              "  _uploadFilesContinue,\n",
              "};\n",
              "})(self);\n",
              "</script> "
            ]
          },
          "metadata": {}
        },
        {
          "output_type": "stream",
          "name": "stdout",
          "text": [
            "Saving Netflix Inc. (NFLX) Stock Price 2002-2025.csv to Netflix Inc. (NFLX) Stock Price 2002-2025 (1).csv\n"
          ]
        }
      ]
    },
    {
      "cell_type": "code",
      "source": [
        "import pandas as pd\n",
        "\n",
        "df2 = pd.read_csv('Netflix Inc. (NFLX) Stock Price 2002-2025.csv')\n",
        "\n",
        "print(df2.head())\n",
        "df2.columns = df2.columns.str.strip()\n",
        "print(df2.columns)"
      ],
      "metadata": {
        "colab": {
          "base_uri": "https://localhost:8080/"
        },
        "id": "Hs2urPl75E1G",
        "outputId": "7699e877-379f-48ca-c911-e706f2e73ed0"
      },
      "execution_count": null,
      "outputs": [
        {
          "output_type": "stream",
          "name": "stdout",
          "text": [
            "           Date     Open       High       Low     Close Adj Close     Volume\n",
            "0  Feb 25, 2025     989.4     994.4       955    977.24    977.24  4,733,000\n",
            "1  Feb 24, 2025  1,008.00  1,015.17    984.48    988.47    988.47  4,426,200\n",
            "2  Feb 21, 2025  1,029.42  1,032.38    999.39  1,003.15  1,003.15  3,738,700\n",
            "3  Feb 20, 2025  1,042.00  1,045.00  1,015.59  1,024.54  1,024.54  3,111,800\n",
            "4  Feb 19, 2025  1,035.18  1,045.00  1,024.51  1,043.33  1,043.33  2,600,000\n",
            "Index(['Date', 'Open', 'High', 'Low', 'Close', 'Adj Close', 'Volume'], dtype='object')\n"
          ]
        }
      ]
    },
    {
      "cell_type": "code",
      "source": [
        "df2['Date'] = pd.to_datetime(df2['Date'])\n",
        "\n",
        "df2 = df2.sort_values('Date').reset_index(drop=True)\n",
        "\n",
        "data2 = df2[['Open', 'High', 'Low', 'Close', 'Volume']].copy()\n",
        "\n",
        "data2 = data2.dropna()\n",
        "\n",
        "\n",
        "\n",
        "print(data2.head())\n",
        "\n",
        "print(data2.shape)"
      ],
      "metadata": {
        "colab": {
          "base_uri": "https://localhost:8080/"
        },
        "id": "9XRkKZxo62_-",
        "outputId": "972952bf-f375-4e70-9541-124808246995"
      },
      "execution_count": null,
      "outputs": [
        {
          "output_type": "stream",
          "name": "stdout",
          "text": [
            "   Open  High   Low Close       Volume\n",
            "0  1.16  1.24  1.15   1.2  104,790,000\n",
            "1  1.21  1.23   1.2  1.21   11,104,800\n",
            "2  1.21  1.23  1.16  1.16    6,609,400\n",
            "3  1.16  1.16  1.09   1.1    6,757,800\n",
            "4  1.11  1.11  1.07  1.07   10,154,200\n",
            "(5727, 5)\n"
          ]
        }
      ]
    },
    {
      "cell_type": "code",
      "source": [
        "print(df2['Open'].unique()[:10])\n",
        "print(df2['Open'].dtype)\n",
        "\n",
        "# Step 1: Strip all column names just to be safe\n",
        "df2.columns = df2.columns.str.strip()\n",
        "\n",
        "# Step 2: Remove commas and dollar signs from string numbers\n",
        "for col in ['Open', 'High', 'Low', 'Close', 'Volume']:\n",
        "    df2[col] = df2[col].astype(str).str.replace(',', '').str.replace('$', '').str.strip()\n"
      ],
      "metadata": {
        "colab": {
          "base_uri": "https://localhost:8080/"
        },
        "id": "h6HJSq0ZAAvc",
        "outputId": "8b984608-86de-4a9f-acaf-7a8a3165a109"
      },
      "execution_count": null,
      "outputs": [
        {
          "output_type": "stream",
          "name": "stdout",
          "text": [
            "['1.16' '1.21' '1.11' '1.08' '1.14' '1.15' '1.18' '1.13' '1.1' '1.01']\n",
            "object\n"
          ]
        }
      ]
    },
    {
      "cell_type": "code",
      "source": [
        "numeric_cols = ['Open', 'High', 'Low', 'Close', 'Volume']\n",
        "df2[numeric_cols] = df2[numeric_cols].apply(pd.to_numeric, errors='coerce')\n",
        "df2 = df2.dropna(subset=numeric_cols)\n",
        "\n",
        "df2.shape\n",
        "\n"
      ],
      "metadata": {
        "colab": {
          "base_uri": "https://localhost:8080/"
        },
        "id": "lLveV_sZCAIv",
        "outputId": "05e445f3-18a4-4f82-c04c-68dafb02f953"
      },
      "execution_count": null,
      "outputs": [
        {
          "output_type": "execute_result",
          "data": {
            "text/plain": [
              "(5727, 7)"
            ]
          },
          "metadata": {},
          "execution_count": 8
        }
      ]
    },
    {
      "cell_type": "code",
      "source": [
        "import matplotlib.pyplot as plt\n",
        "\n",
        "plt.figure(figsize=(12, 6))\n",
        "\n",
        "plt.plot(df2['Date'], df2['Open'], label='Open')\n",
        "plt.plot(df2['Date'], df2['High'], label='High')\n",
        "plt.plot(df2['Date'], df2['Low'], label='Low')\n",
        "plt.plot(df2['Date'], df2['Close'], label='Close')\n",
        "plt.plot(df2['Date'], df2['Volume'], label='Volume')  # optional; might be on a different scale\n",
        "\n",
        "plt.title('Netflix Stock Price (Open, High, Low, Close, Volume)')\n",
        "plt.xlabel('Date')\n",
        "plt.ylabel('Price / Volume')\n",
        "plt.legend()\n",
        "plt.grid(True)\n",
        "plt.tight_layout()\n",
        "plt.show()\n"
      ],
      "metadata": {
        "colab": {
          "base_uri": "https://localhost:8080/",
          "height": 607
        },
        "id": "rettatqE-SAB",
        "outputId": "97018351-7617-452f-8e29-9796710c87e7"
      },
      "execution_count": null,
      "outputs": [
        {
          "output_type": "display_data",
          "data": {
            "text/plain": [
              "<Figure size 1200x600 with 1 Axes>"
            ],
            "image/png": "[encoded data removed]"
          },
          "metadata": {}
        }
      ]
    },
    {
      "cell_type": "code",
      "source": [
        "import numpy as np\n",
        "from sklearn.preprocessing import MinMaxScaler\n",
        "\n",
        "close_prices = df2[['Close']].values\n",
        "open_prices = df2[['Open']].values\n",
        "high_prices = df2[['High']].values\n",
        "low_prices = df2[['Low']].values\n",
        "volume = df2[['Volume']].values\n",
        "\n",
        "train_size = int(len(df2) * 0.8)\n",
        "train_df = df2[:train_size]\n",
        "test_df = df2[train_size:]\n",
        "\n",
        "scaler = MinMaxScaler()\n",
        "\n",
        "scaler.fit(train_df[['Open', 'High', 'Low', 'Close', 'Volume']])\n",
        "\n",
        "train_scaled = scaler.transform(train_df[['Open', 'High', 'Low', 'Close', 'Volume']])\n",
        "test_scaled = scaler.transform(test_df[['Open', 'High', 'Low', 'Close', 'Volume']])\n",
        "\n",
        "print(train_scaled[:2])\n",
        "print(test_scaled[:2])"
      ],
      "metadata": {
        "colab": {
          "base_uri": "https://localhost:8080/"
        },
        "id": "E49GdeqE_I4c",
        "outputId": "4a98e2ca-600e-4739-94b0-140a8deb0867"
      },
      "execution_count": null,
      "outputs": [
        {
          "output_type": "stream",
          "name": "stdout",
          "text": [
            "[[0.00137421 0.00144358 0.00153666 0.0015136  0.32341447]\n",
            " [0.0014623  0.00142619 0.0016327  0.00153184 0.03348267]]\n",
            "[[0.87785412 0.8870704  0.95714642 0.92871471 0.01647147]\n",
            " [0.89552502 0.88647906 0.96204452 0.91498286 0.01244892]]\n"
          ]
        }
      ]
    },
    {
      "cell_type": "code",
      "source": [
        "import torch\n",
        "device = 'cuda' if torch.cuda.is_available() else 'cpu'\n",
        "print(f'Using device: {device}')\n"
      ],
      "metadata": {
        "colab": {
          "base_uri": "https://localhost:8080/"
        },
        "id": "deVVXyFdhS5O",
        "outputId": "7cd5fba3-8c40-4ad0-8256-867661b4fcf7"
      },
      "execution_count": null,
      "outputs": [
        {
          "output_type": "stream",
          "name": "stdout",
          "text": [
            "Using device: cuda\n"
          ]
        }
      ]
    },
    {
      "cell_type": "code",
      "source": [
        "import torch\n",
        "def create_sequences(data, len_seq):\n",
        "    X, y = [], []\n",
        "\n",
        "    for i in range(len_seq, len(data)-4):\n",
        "        seq = data[i - len_seq:i]\n",
        "        target = data[i:i+4, 3].mean() #switch to 4 day avg to reduce short term volatility\n",
        "\n",
        "        if not np.isnan(seq).any() and not np.isnan(target).any():\n",
        "            X.append(seq)\n",
        "            y.append(target)\n",
        "\n",
        "    X = np.array(X)\n",
        "    y = np.array(y)\n",
        "\n",
        "    return torch.tensor(X, dtype=torch.float32), torch.tensor(y, dtype=torch.float32).unsqueeze(1)\n",
        "\n",
        "SEQ_len = 30\n",
        "X_train, y_train = create_sequences(train_scaled, SEQ_len)\n",
        "X_test, y_test = create_sequences(test_scaled, SEQ_len)\n",
        "\n",
        "print(f'X_train shape: {X_train.shape}')\n",
        "print(f'y_train shape: {y_train.shape}')\n",
        "\n",
        "SEQ_len = 30"
      ],
      "metadata": {
        "colab": {
          "base_uri": "https://localhost:8080/"
        },
        "id": "oXYB9CcNgs09",
        "outputId": "f8336e24-f0a4-4b60-9cd1-36bba580d905"
      },
      "execution_count": null,
      "outputs": [
        {
          "output_type": "stream",
          "name": "stdout",
          "text": [
            "X_train shape: torch.Size([4547, 30, 5])\n",
            "y_train shape: torch.Size([4547, 1])\n"
          ]
        }
      ]
    },
    {
      "cell_type": "markdown",
      "source": [
        "### make the dataloader class"
      ],
      "metadata": {
        "id": "00grtcF_jEIj"
      }
    },
    {
      "cell_type": "code",
      "source": [
        "from torch.utils.data import Dataset\n",
        "class StockDataset2(Dataset):\n",
        "  def __init__(self, X, y):\n",
        "    self.X = X\n",
        "    self.y = y\n",
        "\n",
        "  def __len__(self):\n",
        "    return len(self.X)\n",
        "\n",
        "  def __getitem__(self, idx):\n",
        "    return self.X[idx], self.y[idx]\n"
      ],
      "metadata": {
        "id": "ou0tB_2Phqj_"
      },
      "execution_count": null,
      "outputs": []
    },
    {
      "cell_type": "code",
      "source": [
        "from torch.utils.data import DataLoader\n",
        "\n",
        "train_dataset = StockDataset2(X_train, y_train)\n",
        "train_loader = DataLoader(train_dataset, batch_size=64, shuffle=False)\n",
        "\n",
        "test_dataset = StockDataset2(X_test, y_test)\n",
        "test_loader = DataLoader(test_dataset, batch_size=64, shuffle=False)\n",
        "\n"
      ],
      "metadata": {
        "id": "mDDimA39iz5d"
      },
      "execution_count": null,
      "outputs": []
    },
    {
      "cell_type": "code",
      "source": [
        "import torch.nn as nn\n",
        "\n",
        "class LSTMModel2(nn.Module):\n",
        "  def __init__(self):\n",
        "    super().__init__()\n",
        "\n",
        "    self.lstm = nn.LSTM (\n",
        "        input_size = 5, # 5 cols this time (open, close, high, low, volume)\n",
        "        hidden_size = 64,\n",
        "        num_layers = 1,\n",
        "        batch_first = True)\n",
        "\n",
        "    self.linear = nn.Linear(in_features=64, out_features=1)\n",
        "\n",
        "  def forward(self, x):\n",
        "    lstm_out, _ = self.lstm(x)\n",
        "    out = lstm_out[:, -1, :]\n",
        "    out = self.linear(out)\n",
        "    return out\n",
        "\n"
      ],
      "metadata": {
        "id": "4Q4nF5-UjC-7"
      },
      "execution_count": null,
      "outputs": []
    },
    {
      "cell_type": "code",
      "source": [
        "model_1 = LSTMModel2()\n",
        "model_1.to(device)\n",
        "loss_fn = nn.MSELoss()\n",
        "optimizer = torch.optim.Adam(model_1.parameters(), lr=0.002)"
      ],
      "metadata": {
        "id": "1d3NCqjal6fL"
      },
      "execution_count": null,
      "outputs": []
    },
    {
      "cell_type": "code",
      "source": [
        "print(train_loader.dataset.X.shape)\n",
        "print(train_loader.dataset.y.shape)"
      ],
      "metadata": {
        "colab": {
          "base_uri": "https://localhost:8080/"
        },
        "id": "fO9b9DE5nG0W",
        "outputId": "743a7ccb-b707-4843-d028-19fd7a49e531"
      },
      "execution_count": null,
      "outputs": [
        {
          "output_type": "stream",
          "name": "stdout",
          "text": [
            "torch.Size([4547, 30, 5])\n",
            "torch.Size([4547, 1])\n"
          ]
        }
      ]
    },
    {
      "cell_type": "code",
      "source": [
        "## Train test loop\n",
        "\n",
        "device = 'cuda' if torch.cuda.is_available() else 'cpu'\n",
        "model_1.to(device)\n",
        "torch.manual_seed(42)\n",
        "torch.cuda.manual_seed(42)\n",
        "\n",
        "epochs = 110\n",
        "\n",
        "for epoch in range(epochs):\n",
        "  model_1.train()\n",
        "  train_loss = 0\n",
        "\n",
        "  for X_batch, y_batch in (train_loader):\n",
        "    X_batch, y_batch = X_batch.to(device).float(), y_batch.to(device).float()\n",
        "\n",
        "    y_pred = model_1(X_batch)\n",
        "    loss = loss_fn(y_pred, y_batch)\n",
        "\n",
        "    optimizer.zero_grad()\n",
        "    loss.backward()\n",
        "    torch.nn.utils.clip_grad_norm_(model_1.parameters(), max_norm=1.0)\n",
        "\n",
        "    optimizer.step()\n",
        "    train_loss += loss.item()\n",
        "\n",
        "  model_1.eval()\n",
        "  with torch.inference_mode():\n",
        "    test_loss = 0\n",
        "    for X_batch, y_batch in test_loader:\n",
        "      X_batch, y_batch = X_batch.to(device), y_batch.to(device)\n",
        "      test_pred = model_1(X_batch)\n",
        "      loss = loss_fn(test_pred, y_batch)\n",
        "      test_loss += loss.item()\n",
        "\n",
        "  avg_train_loss = train_loss / len(train_loader)\n",
        "  avg_test_loss = test_loss / len(test_loader)\n",
        "\n",
        "\n",
        "  if epoch % 10 == 0:\n",
        "    print(f\"Epoch: {epoch:3} | Train Loss: {avg_train_loss:.6f} | Test Loss: {avg_test_loss:.6f}\")"
      ],
      "metadata": {
        "colab": {
          "base_uri": "https://localhost:8080/"
        },
        "id": "tz4hOeLFmqt4",
        "outputId": "5218aa3a-d447-4bfc-8c70-e8d5ca134aa8"
      },
      "execution_count": null,
      "outputs": [
        {
          "output_type": "stream",
          "name": "stdout",
          "text": [
            "Epoch:   0 | Train Loss: 0.003544 | Test Loss: 0.068029\n",
            "Epoch:  10 | Train Loss: 0.000802 | Test Loss: 0.005592\n",
            "Epoch:  20 | Train Loss: 0.000281 | Test Loss: 0.011856\n",
            "Epoch:  30 | Train Loss: 0.000293 | Test Loss: 0.010836\n",
            "Epoch:  40 | Train Loss: 0.000381 | Test Loss: 0.008761\n",
            "Epoch:  50 | Train Loss: 0.001549 | Test Loss: 0.007691\n",
            "Epoch:  60 | Train Loss: 0.000295 | Test Loss: 0.013483\n",
            "Epoch:  70 | Train Loss: 0.000175 | Test Loss: 0.006610\n",
            "Epoch:  80 | Train Loss: 0.000552 | Test Loss: 0.005357\n",
            "Epoch:  90 | Train Loss: 0.000388 | Test Loss: 0.006087\n",
            "Epoch: 100 | Train Loss: 0.000798 | Test Loss: 0.004236\n"
          ]
        }
      ]
    },
    {
      "cell_type": "code",
      "source": [
        "model_1.eval()\n",
        "\n",
        "with torch.inference_mode():\n",
        "    X_test = X_test.to(device)\n",
        "    preds = model_1(X_test).cpu().numpy()\n",
        "    true = y_test.cpu().numpy()\n",
        "\n",
        "    # Build dummy arrays with 5 columns to match the scaler\n",
        "    # We'll insert the predicted close in the correct position (index 3 for 'Close')\n",
        "    preds_full = np.zeros((len(preds), 5))\n",
        "    true_full = np.zeros((len(true), 5))\n",
        "\n",
        "    preds_full[:, 3] = preds.flatten()  # Put predictions in the Close column\n",
        "    true_full[:, 3] = true.flatten()    # Same for true values\n",
        "\n",
        "    # Now inverse transform the full array\n",
        "    preds_unscaled = scaler.inverse_transform(preds_full)[:, 3]  # only keep Close\n",
        "    true_unscaled = scaler.inverse_transform(true_full)[:, 3]\n"
      ],
      "metadata": {
        "id": "XVSvaEqPqE9z"
      },
      "execution_count": null,
      "outputs": []
    },
    {
      "cell_type": "code",
      "source": [
        "###now visulaize:\n",
        "\n",
        "import matplotlib.pyplot as plt\n",
        "\n",
        "plt.figure(figsize = (12, 6))\n",
        "plt.plot(true_unscaled, label = 'Actual Price')\n",
        "plt.plot(preds_unscaled, label = 'Predicted Price')\n",
        "plt.title('Netflix Stock Price Prediction')\n",
        "plt"
      ],
      "metadata": {
        "colab": {
          "base_uri": "https://localhost:8080/",
          "height": 563
        },
        "id": "Cb_EdvvZqL69",
        "outputId": "9a5ccc50-1093-498c-ae1f-e77a45444b24"
      },
      "execution_count": null,
      "outputs": [
        {
          "output_type": "execute_result",
          "data": {
            "text/plain": [
              "<module 'matplotlib.pyplot' from '/usr/local/lib/python3.11/dist-packages/matplotlib/pyplot.py'>"
            ]
          },
          "metadata": {},
          "execution_count": 164
        },
        {
          "output_type": "display_data",
          "data": {
            "text/plain": [
              "<Figure size 1200x600 with 1 Axes>"
            ],
            "image/png": "[encoded data removed]"
          },
          "metadata": {}
        }
      ]
    },
    {
      "cell_type": "code",
      "source": [
        "from sklearn.metrics import mean_squared_error, mean_absolute_error, r2_score\n",
        "\n",
        "mse = mean_squared_error(true_unscaled, preds_unscaled) #mean squared error\n",
        "rmse = mse**0.5 #root mean squared error\n",
        "mae = mean_absolute_error(true_unscaled, preds_unscaled) #mean absolute error\n",
        "r2 = r2_score(true_unscaled, preds_unscaled) #coefficient of determination\n",
        "\n",
        "print(f'RMSE: ${rmse:.3f}')\n",
        "print(f'MAE: ${mae:.3f}')\n",
        "print(f'R2 score: {r2:.3f}')"
      ],
      "metadata": {
        "colab": {
          "base_uri": "https://localhost:8080/"
        },
        "id": "xJRJEm4trBmd",
        "outputId": "4cacaaae-cbcd-456b-ce8a-881b81cd53bd"
      },
      "execution_count": null,
      "outputs": [
        {
          "output_type": "stream",
          "name": "stdout",
          "text": [
            "RMSE: $32.503\n",
            "MAE: $18.916\n",
            "R2 score: 0.968\n"
          ]
        }
      ]
    },
    {
      "cell_type": "code",
      "source": [
        "# Prepare dummy array for inverse transform\n",
        "baseline_preds = X_test[:, -1, 3].cpu().numpy()  # last day’s Close in each 30-day input\n",
        "\n",
        "baseline_full = np.zeros((len(baseline_preds), 5))\n",
        "baseline_full[:, 3] = baseline_preds  # insert into Close column\n",
        "\n",
        "baseline_unscaled = scaler.inverse_transform(baseline_full)[:, 3]\n",
        "\n",
        "baseline_rmse = mean_squared_error(true_unscaled, baseline_unscaled)\n",
        "baseline_rmse = baseline_rmse**0.5\n",
        "print(f\"Baseline RMSE: ${baseline_rmse:.2f}\")\n"
      ],
      "metadata": {
        "colab": {
          "base_uri": "https://localhost:8080/"
        },
        "id": "uIZVALuEF4S5",
        "outputId": "edbee814-32eb-424f-d1ac-ad15b373cf46"
      },
      "execution_count": null,
      "outputs": [
        {
          "output_type": "stream",
          "name": "stdout",
          "text": [
            "Baseline RMSE: $16.97\n"
          ]
        }
      ]
    }
  ]
}